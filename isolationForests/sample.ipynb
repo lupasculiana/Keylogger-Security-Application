{
 "cells": [
  {
   "cell_type": "code",
   "outputs": [
    {
     "name": "stdout",
     "output_type": "stream",
     "text": [
      "Collecting seaborn\n",
      "  Downloading seaborn-0.13.2-py3-none-any.whl.metadata (5.4 kB)\n",
      "Requirement already satisfied: numpy!=1.24.0,>=1.20 in c:\\users\\liais\\anaconda3\\envs\\isolationforests\\lib\\site-packages (from seaborn) (1.24.4)\n",
      "Requirement already satisfied: pandas>=1.2 in c:\\users\\liais\\anaconda3\\envs\\isolationforests\\lib\\site-packages (from seaborn) (2.0.3)\n",
      "Collecting matplotlib!=3.6.1,>=3.4 (from seaborn)\n",
      "  Downloading matplotlib-3.7.5-cp38-cp38-win_amd64.whl.metadata (5.8 kB)\n",
      "Collecting contourpy>=1.0.1 (from matplotlib!=3.6.1,>=3.4->seaborn)\n",
      "  Downloading contourpy-1.1.1-cp38-cp38-win_amd64.whl.metadata (5.9 kB)\n",
      "Collecting cycler>=0.10 (from matplotlib!=3.6.1,>=3.4->seaborn)\n",
      "  Downloading cycler-0.12.1-py3-none-any.whl.metadata (3.8 kB)\n",
      "Collecting fonttools>=4.22.0 (from matplotlib!=3.6.1,>=3.4->seaborn)\n",
      "  Downloading fonttools-4.49.0-cp38-cp38-win_amd64.whl.metadata (162 kB)\n",
      "     ---------------------------------------- 0.0/162.3 kB ? eta -:--:--\n",
      "     -- ------------------------------------- 10.2/162.3 kB ? eta -:--:--\n",
      "     --------- --------------------------- 41.0/162.3 kB 487.6 kB/s eta 0:00:01\n",
      "     ---------------------------- --------- 122.9/162.3 kB 1.0 MB/s eta 0:00:01\n",
      "     -------------------------------------- 162.3/162.3 kB 1.1 MB/s eta 0:00:00\n",
      "Collecting kiwisolver>=1.0.1 (from matplotlib!=3.6.1,>=3.4->seaborn)\n",
      "  Downloading kiwisolver-1.4.5-cp38-cp38-win_amd64.whl.metadata (6.5 kB)\n",
      "Requirement already satisfied: packaging>=20.0 in c:\\users\\liais\\anaconda3\\envs\\isolationforests\\lib\\site-packages (from matplotlib!=3.6.1,>=3.4->seaborn) (23.2)\n",
      "Collecting pillow>=6.2.0 (from matplotlib!=3.6.1,>=3.4->seaborn)\n",
      "  Downloading pillow-10.2.0-cp38-cp38-win_amd64.whl.metadata (9.9 kB)\n",
      "Collecting pyparsing>=2.3.1 (from matplotlib!=3.6.1,>=3.4->seaborn)\n",
      "  Downloading pyparsing-3.1.1-py3-none-any.whl.metadata (5.1 kB)\n",
      "Requirement already satisfied: python-dateutil>=2.7 in c:\\users\\liais\\anaconda3\\envs\\isolationforests\\lib\\site-packages (from matplotlib!=3.6.1,>=3.4->seaborn) (2.9.0.post0)\n",
      "Requirement already satisfied: importlib-resources>=3.2.0 in c:\\users\\liais\\anaconda3\\envs\\isolationforests\\lib\\site-packages (from matplotlib!=3.6.1,>=3.4->seaborn) (6.1.2)\n",
      "Requirement already satisfied: pytz>=2020.1 in c:\\users\\liais\\anaconda3\\envs\\isolationforests\\lib\\site-packages (from pandas>=1.2->seaborn) (2024.1)\n",
      "Requirement already satisfied: tzdata>=2022.1 in c:\\users\\liais\\anaconda3\\envs\\isolationforests\\lib\\site-packages (from pandas>=1.2->seaborn) (2024.1)\n",
      "Requirement already satisfied: zipp>=3.1.0 in c:\\users\\liais\\anaconda3\\envs\\isolationforests\\lib\\site-packages (from importlib-resources>=3.2.0->matplotlib!=3.6.1,>=3.4->seaborn) (3.17.0)\n",
      "Requirement already satisfied: six>=1.5 in c:\\users\\liais\\anaconda3\\envs\\isolationforests\\lib\\site-packages (from python-dateutil>=2.7->matplotlib!=3.6.1,>=3.4->seaborn) (1.16.0)\n",
      "Downloading seaborn-0.13.2-py3-none-any.whl (294 kB)\n",
      "   ---------------------------------------- 0.0/294.9 kB ? eta -:--:--\n",
      "   ------------------- -------------------- 143.4/294.9 kB 4.3 MB/s eta 0:00:01\n",
      "   ---------------------------------- ----- 256.0/294.9 kB 4.0 MB/s eta 0:00:01\n",
      "   ---------------------------------------- 294.9/294.9 kB 2.6 MB/s eta 0:00:00\n",
      "Downloading matplotlib-3.7.5-cp38-cp38-win_amd64.whl (7.5 MB)\n",
      "   ---------------------------------------- 0.0/7.5 MB ? eta -:--:--\n",
      "   - -------------------------------------- 0.3/7.5 MB 8.9 MB/s eta 0:00:01\n",
      "   -- ------------------------------------- 0.5/7.5 MB 5.4 MB/s eta 0:00:02\n",
      "   --- ------------------------------------ 0.7/7.5 MB 6.4 MB/s eta 0:00:02\n",
      "   ------ --------------------------------- 1.2/7.5 MB 6.6 MB/s eta 0:00:01\n",
      "   ------- -------------------------------- 1.4/7.5 MB 5.8 MB/s eta 0:00:02\n",
      "   -------- ------------------------------- 1.7/7.5 MB 5.9 MB/s eta 0:00:01\n",
      "   ---------- ----------------------------- 1.9/7.5 MB 6.2 MB/s eta 0:00:01\n",
      "   ----------- ---------------------------- 2.1/7.5 MB 5.5 MB/s eta 0:00:01\n",
      "   ------------ --------------------------- 2.4/7.5 MB 5.7 MB/s eta 0:00:01\n",
      "   --------------- ------------------------ 2.9/7.5 MB 6.1 MB/s eta 0:00:01\n",
      "   ----------------- ---------------------- 3.2/7.5 MB 6.3 MB/s eta 0:00:01\n",
      "   ------------------- -------------------- 3.7/7.5 MB 6.6 MB/s eta 0:00:01\n",
      "   ---------------------- ----------------- 4.2/7.5 MB 6.8 MB/s eta 0:00:01\n",
      "   ------------------------ --------------- 4.6/7.5 MB 7.0 MB/s eta 0:00:01\n",
      "   -------------------------- ------------- 4.9/7.5 MB 7.0 MB/s eta 0:00:01\n",
      "   ---------------------------- ----------- 5.4/7.5 MB 7.1 MB/s eta 0:00:01\n",
      "   ------------------------------ --------- 5.6/7.5 MB 7.1 MB/s eta 0:00:01\n",
      "   -------------------------------- ------- 6.1/7.5 MB 7.2 MB/s eta 0:00:01\n",
      "   ---------------------------------- ----- 6.4/7.5 MB 7.2 MB/s eta 0:00:01\n",
      "   ------------------------------------ --- 6.8/7.5 MB 7.3 MB/s eta 0:00:01\n",
      "   -------------------------------------- - 7.2/7.5 MB 7.3 MB/s eta 0:00:01\n",
      "   ---------------------------------------  7.5/7.5 MB 7.3 MB/s eta 0:00:01\n",
      "   ---------------------------------------- 7.5/7.5 MB 7.2 MB/s eta 0:00:00\n",
      "Downloading contourpy-1.1.1-cp38-cp38-win_amd64.whl (477 kB)\n",
      "   ---------------------------------------- 0.0/477.9 kB ? eta -:--:--\n",
      "   ----------------------- ---------------- 286.7/477.9 kB 8.9 MB/s eta 0:00:01\n",
      "   ------------------------------ --------- 368.6/477.9 kB 5.8 MB/s eta 0:00:01\n",
      "   ---------------------------------------- 477.9/477.9 kB 3.7 MB/s eta 0:00:00\n",
      "Downloading cycler-0.12.1-py3-none-any.whl (8.3 kB)\n",
      "Downloading fonttools-4.49.0-cp38-cp38-win_amd64.whl (1.5 MB)\n",
      "   ---------------------------------------- 0.0/1.5 MB ? eta -:--:--\n",
      "   --------- ------------------------------ 0.4/1.5 MB 7.4 MB/s eta 0:00:01\n",
      "   --------------------- ------------------ 0.8/1.5 MB 8.5 MB/s eta 0:00:01\n",
      "   ----------------------------- ---------- 1.1/1.5 MB 7.9 MB/s eta 0:00:01\n",
      "   ------------------------------------- -- 1.4/1.5 MB 8.0 MB/s eta 0:00:01\n",
      "   ---------------------------------------- 1.5/1.5 MB 6.8 MB/s eta 0:00:00\n",
      "Downloading kiwisolver-1.4.5-cp38-cp38-win_amd64.whl (56 kB)\n",
      "   ---------------------------------------- 0.0/56.2 kB ? eta -:--:--\n",
      "   ---------------------------------------- 56.2/56.2 kB 2.9 MB/s eta 0:00:00\n",
      "Downloading pillow-10.2.0-cp38-cp38-win_amd64.whl (2.6 MB)\n",
      "   ---------------------------------------- 0.0/2.6 MB ? eta -:--:--\n",
      "   ----- ---------------------------------- 0.3/2.6 MB 7.0 MB/s eta 0:00:01\n",
      "   ------- -------------------------------- 0.5/2.6 MB 5.9 MB/s eta 0:00:01\n",
      "   ----------- ---------------------------- 0.7/2.6 MB 5.3 MB/s eta 0:00:01\n",
      "   -------------- ------------------------- 1.0/2.6 MB 5.1 MB/s eta 0:00:01\n",
      "   --------------- ------------------------ 1.0/2.6 MB 4.6 MB/s eta 0:00:01\n",
      "   --------------- ------------------------ 1.0/2.6 MB 4.6 MB/s eta 0:00:01\n",
      "   --------------- ------------------------ 1.0/2.6 MB 4.6 MB/s eta 0:00:01\n",
      "   ------------------------------- -------- 2.1/2.6 MB 5.8 MB/s eta 0:00:01\n",
      "   ------------------------------------ --- 2.4/2.6 MB 5.7 MB/s eta 0:00:01\n",
      "   ---------------------------------------- 2.6/2.6 MB 5.6 MB/s eta 0:00:00\n",
      "Downloading pyparsing-3.1.1-py3-none-any.whl (103 kB)\n",
      "   ---------------------------------------- 0.0/103.1 kB ? eta -:--:--\n",
      "   ---------------------------------------- 103.1/103.1 kB ? eta 0:00:00\n",
      "Installing collected packages: pyparsing, pillow, kiwisolver, fonttools, cycler, contourpy, matplotlib, seaborn\n",
      "Successfully installed contourpy-1.1.1 cycler-0.12.1 fonttools-4.49.0 kiwisolver-1.4.5 matplotlib-3.7.5 pillow-10.2.0 pyparsing-3.1.1 seaborn-0.13.2\n"
     ]
    }
   ],
   "source": [
    "!pip install seaborn"
   ],
   "metadata": {
    "collapsed": false,
    "ExecuteTime": {
     "end_time": "2024-03-05T23:44:29.439989Z",
     "start_time": "2024-03-05T23:44:09.286194Z"
    }
   },
   "id": "b549f2e83b4d7585",
   "execution_count": 2
  },
  {
   "cell_type": "code",
   "outputs": [
    {
     "name": "stdout",
     "output_type": "stream",
     "text": [
      "Collecting scikit-learn\n",
      "  Downloading scikit_learn-1.3.2-cp38-cp38-win_amd64.whl.metadata (11 kB)\n",
      "Requirement already satisfied: numpy<2.0,>=1.17.3 in c:\\users\\liais\\anaconda3\\envs\\isolationforests\\lib\\site-packages (from scikit-learn) (1.24.4)\n",
      "Collecting scipy>=1.5.0 (from scikit-learn)\n",
      "  Downloading scipy-1.10.1-cp38-cp38-win_amd64.whl.metadata (58 kB)\n",
      "     ---------------------------------------- 0.0/59.0 kB ? eta -:--:--\n",
      "     ------ --------------------------------- 10.2/59.0 kB ? eta -:--:--\n",
      "     -------------------------- ----------- 41.0/59.0 kB 495.5 kB/s eta 0:00:01\n",
      "     -------------------------------------- 59.0/59.0 kB 524.0 kB/s eta 0:00:00\n",
      "Collecting joblib>=1.1.1 (from scikit-learn)\n",
      "  Downloading joblib-1.3.2-py3-none-any.whl.metadata (5.4 kB)\n",
      "Collecting threadpoolctl>=2.0.0 (from scikit-learn)\n",
      "  Downloading threadpoolctl-3.3.0-py3-none-any.whl.metadata (13 kB)\n",
      "Downloading scikit_learn-1.3.2-cp38-cp38-win_amd64.whl (9.3 MB)\n",
      "   ---------------------------------------- 0.0/9.3 MB ? eta -:--:--\n",
      "   ---------------------------------------- 0.1/9.3 MB 3.2 MB/s eta 0:00:03\n",
      "    --------------------------------------- 0.2/9.3 MB 2.1 MB/s eta 0:00:05\n",
      "   - -------------------------------------- 0.3/9.3 MB 2.0 MB/s eta 0:00:05\n",
      "   -- ------------------------------------- 0.5/9.3 MB 2.8 MB/s eta 0:00:04\n",
      "   --- ------------------------------------ 0.9/9.3 MB 3.9 MB/s eta 0:00:03\n",
      "   ---- ----------------------------------- 1.0/9.3 MB 4.1 MB/s eta 0:00:03\n",
      "   ------ --------------------------------- 1.5/9.3 MB 4.7 MB/s eta 0:00:02\n",
      "   ------- -------------------------------- 1.7/9.3 MB 4.8 MB/s eta 0:00:02\n",
      "   --------- ------------------------------ 2.1/9.3 MB 5.2 MB/s eta 0:00:02\n",
      "   ----------- ---------------------------- 2.5/9.3 MB 5.4 MB/s eta 0:00:02\n",
      "   ------------ --------------------------- 2.9/9.3 MB 5.7 MB/s eta 0:00:02\n",
      "   ------------- -------------------------- 3.1/9.3 MB 5.5 MB/s eta 0:00:02\n",
      "   -------------- ------------------------- 3.5/9.3 MB 5.7 MB/s eta 0:00:02\n",
      "   ---------------- ----------------------- 3.8/9.3 MB 5.8 MB/s eta 0:00:01\n",
      "   ----------------- ---------------------- 4.1/9.3 MB 6.0 MB/s eta 0:00:01\n",
      "   ------------------- -------------------- 4.4/9.3 MB 5.9 MB/s eta 0:00:01\n",
      "   --------------------- ------------------ 4.9/9.3 MB 6.1 MB/s eta 0:00:01\n",
      "   ---------------------- ----------------- 5.2/9.3 MB 6.1 MB/s eta 0:00:01\n",
      "   ----------------------- ---------------- 5.5/9.3 MB 6.2 MB/s eta 0:00:01\n",
      "   ------------------------- -------------- 5.9/9.3 MB 6.3 MB/s eta 0:00:01\n",
      "   --------------------------- ------------ 6.4/9.3 MB 6.5 MB/s eta 0:00:01\n",
      "   ----------------------------- ---------- 6.8/9.3 MB 6.6 MB/s eta 0:00:01\n",
      "   ------------------------------- -------- 7.3/9.3 MB 6.7 MB/s eta 0:00:01\n",
      "   --------------------------------- ------ 7.7/9.3 MB 6.7 MB/s eta 0:00:01\n",
      "   ---------------------------------- ----- 8.1/9.3 MB 6.8 MB/s eta 0:00:01\n",
      "   ------------------------------------ --- 8.4/9.3 MB 6.8 MB/s eta 0:00:01\n",
      "   -------------------------------------- - 8.9/9.3 MB 7.0 MB/s eta 0:00:01\n",
      "   ---------------------------------------  9.3/9.3 MB 7.0 MB/s eta 0:00:01\n",
      "   ---------------------------------------- 9.3/9.3 MB 6.9 MB/s eta 0:00:00\n",
      "Downloading joblib-1.3.2-py3-none-any.whl (302 kB)\n",
      "   ---------------------------------------- 0.0/302.2 kB ? eta -:--:--\n",
      "   --------------------------------- ------ 256.0/302.2 kB 7.9 MB/s eta 0:00:01\n",
      "   ---------------------------------------- 302.2/302.2 kB 4.7 MB/s eta 0:00:00\n",
      "Downloading scipy-1.10.1-cp38-cp38-win_amd64.whl (42.2 MB)\n",
      "   ---------------------------------------- 0.0/42.2 MB ? eta -:--:--\n",
      "   ---------------------------------------- 0.4/42.2 MB 8.9 MB/s eta 0:00:05\n",
      "    --------------------------------------- 0.8/42.2 MB 9.8 MB/s eta 0:00:05\n",
      "    --------------------------------------- 0.8/42.2 MB 9.8 MB/s eta 0:00:05\n",
      "   - -------------------------------------- 1.6/42.2 MB 8.4 MB/s eta 0:00:05\n",
      "   - -------------------------------------- 1.9/42.2 MB 8.0 MB/s eta 0:00:06\n",
      "   -- ------------------------------------- 2.4/42.2 MB 7.9 MB/s eta 0:00:06\n",
      "   -- ------------------------------------- 2.7/42.2 MB 7.9 MB/s eta 0:00:06\n",
      "   --- ------------------------------------ 3.3/42.2 MB 8.0 MB/s eta 0:00:05\n",
      "   --- ------------------------------------ 3.8/42.2 MB 8.1 MB/s eta 0:00:05\n",
      "   ---- ----------------------------------- 4.3/42.2 MB 8.3 MB/s eta 0:00:05\n",
      "   ---- ----------------------------------- 4.7/42.2 MB 8.3 MB/s eta 0:00:05\n",
      "   ---- ----------------------------------- 5.2/42.2 MB 8.4 MB/s eta 0:00:05\n",
      "   ----- ---------------------------------- 5.7/42.2 MB 8.3 MB/s eta 0:00:05\n",
      "   ----- ---------------------------------- 6.2/42.2 MB 8.4 MB/s eta 0:00:05\n",
      "   ------ --------------------------------- 6.6/42.2 MB 8.4 MB/s eta 0:00:05\n",
      "   ------ --------------------------------- 6.9/42.2 MB 8.4 MB/s eta 0:00:05\n",
      "   ------ --------------------------------- 7.4/42.2 MB 8.3 MB/s eta 0:00:05\n",
      "   ------- -------------------------------- 7.9/42.2 MB 8.3 MB/s eta 0:00:05\n",
      "   -------- ------------------------------- 8.4/42.2 MB 8.3 MB/s eta 0:00:05\n",
      "   -------- ------------------------------- 9.0/42.2 MB 8.3 MB/s eta 0:00:04\n",
      "   --------- ------------------------------ 9.6/42.2 MB 8.4 MB/s eta 0:00:04\n",
      "   --------- ------------------------------ 9.9/42.2 MB 8.2 MB/s eta 0:00:04\n",
      "   --------- ------------------------------ 10.4/42.2 MB 8.2 MB/s eta 0:00:04\n",
      "   ---------- ----------------------------- 10.8/42.2 MB 8.4 MB/s eta 0:00:04\n",
      "   ---------- ----------------------------- 11.2/42.2 MB 9.0 MB/s eta 0:00:04\n",
      "   ----------- ---------------------------- 11.6/42.2 MB 8.5 MB/s eta 0:00:04\n",
      "   ----------- ---------------------------- 12.1/42.2 MB 8.5 MB/s eta 0:00:04\n",
      "   ----------- ---------------------------- 12.6/42.2 MB 8.6 MB/s eta 0:00:04\n",
      "   ------------ --------------------------- 12.9/42.2 MB 8.6 MB/s eta 0:00:04\n",
      "   ------------ --------------------------- 13.3/42.2 MB 8.5 MB/s eta 0:00:04\n",
      "   ------------ --------------------------- 13.6/42.2 MB 8.5 MB/s eta 0:00:04\n",
      "   ------------- -------------------------- 14.0/42.2 MB 8.5 MB/s eta 0:00:04\n",
      "   ------------- -------------------------- 14.2/42.2 MB 8.3 MB/s eta 0:00:04\n",
      "   ------------- -------------------------- 14.6/42.2 MB 8.3 MB/s eta 0:00:04\n",
      "   -------------- ------------------------- 15.0/42.2 MB 8.3 MB/s eta 0:00:04\n",
      "   -------------- ------------------------- 15.4/42.2 MB 8.2 MB/s eta 0:00:04\n",
      "   -------------- ------------------------- 15.8/42.2 MB 8.2 MB/s eta 0:00:04\n",
      "   --------------- ------------------------ 16.2/42.2 MB 8.2 MB/s eta 0:00:04\n",
      "   --------------- ------------------------ 16.6/42.2 MB 8.2 MB/s eta 0:00:04\n",
      "   --------------- ------------------------ 16.8/42.2 MB 8.0 MB/s eta 0:00:04\n",
      "   ---------------- ----------------------- 17.1/42.2 MB 8.0 MB/s eta 0:00:04\n",
      "   ---------------- ----------------------- 17.1/42.2 MB 8.0 MB/s eta 0:00:04\n",
      "   ---------------- ----------------------- 17.3/42.2 MB 7.5 MB/s eta 0:00:04\n",
      "   ---------------- ----------------------- 17.4/42.2 MB 7.4 MB/s eta 0:00:04\n",
      "   ---------------- ----------------------- 17.6/42.2 MB 7.4 MB/s eta 0:00:04\n",
      "   ---------------- ----------------------- 17.7/42.2 MB 7.0 MB/s eta 0:00:04\n",
      "   ----------------- ---------------------- 18.1/42.2 MB 7.0 MB/s eta 0:00:04\n",
      "   ----------------- ---------------------- 18.3/42.2 MB 7.0 MB/s eta 0:00:04\n",
      "   ----------------- ---------------------- 18.6/42.2 MB 6.8 MB/s eta 0:00:04\n",
      "   ----------------- ---------------------- 18.7/42.2 MB 6.7 MB/s eta 0:00:04\n",
      "   ----------------- ---------------------- 19.0/42.2 MB 6.6 MB/s eta 0:00:04\n",
      "   ------------------ --------------------- 19.2/42.2 MB 6.5 MB/s eta 0:00:04\n",
      "   ------------------ --------------------- 19.4/42.2 MB 6.4 MB/s eta 0:00:04\n",
      "   ------------------ --------------------- 19.9/42.2 MB 6.4 MB/s eta 0:00:04\n",
      "   ------------------- -------------------- 20.3/42.2 MB 6.4 MB/s eta 0:00:04\n",
      "   ------------------- -------------------- 20.8/42.2 MB 6.3 MB/s eta 0:00:04\n",
      "   -------------------- ------------------- 21.2/42.2 MB 6.2 MB/s eta 0:00:04\n",
      "   -------------------- ------------------- 21.6/42.2 MB 6.2 MB/s eta 0:00:04\n",
      "   -------------------- ------------------- 22.1/42.2 MB 6.2 MB/s eta 0:00:04\n",
      "   --------------------- ------------------ 22.6/42.2 MB 6.1 MB/s eta 0:00:04\n",
      "   --------------------- ------------------ 23.1/42.2 MB 6.1 MB/s eta 0:00:04\n",
      "   ---------------------- ----------------- 23.5/42.2 MB 6.2 MB/s eta 0:00:04\n",
      "   ---------------------- ----------------- 23.9/42.2 MB 6.2 MB/s eta 0:00:03\n",
      "   ----------------------- ---------------- 24.4/42.2 MB 6.3 MB/s eta 0:00:03\n",
      "   ----------------------- ---------------- 24.8/42.2 MB 6.4 MB/s eta 0:00:03\n",
      "   ----------------------- ---------------- 25.3/42.2 MB 6.4 MB/s eta 0:00:03\n",
      "   ------------------------ --------------- 25.8/42.2 MB 6.5 MB/s eta 0:00:03\n",
      "   ------------------------ --------------- 26.3/42.2 MB 6.5 MB/s eta 0:00:03\n",
      "   ------------------------- -------------- 26.6/42.2 MB 6.5 MB/s eta 0:00:03\n",
      "   ------------------------- -------------- 27.1/42.2 MB 6.6 MB/s eta 0:00:03\n",
      "   -------------------------- ------------- 27.5/42.2 MB 6.9 MB/s eta 0:00:03\n",
      "   -------------------------- ------------- 27.9/42.2 MB 7.6 MB/s eta 0:00:02\n",
      "   -------------------------- ------------- 28.4/42.2 MB 7.6 MB/s eta 0:00:02\n",
      "   --------------------------- ------------ 28.8/42.2 MB 7.9 MB/s eta 0:00:02\n",
      "   --------------------------- ------------ 29.2/42.2 MB 8.2 MB/s eta 0:00:02\n",
      "   ---------------------------- ----------- 29.6/42.2 MB 8.6 MB/s eta 0:00:02\n",
      "   ---------------------------- ----------- 30.0/42.2 MB 8.5 MB/s eta 0:00:02\n",
      "   ---------------------------- ----------- 30.4/42.2 MB 8.7 MB/s eta 0:00:02\n",
      "   ----------------------------- ---------- 30.8/42.2 MB 8.7 MB/s eta 0:00:02\n",
      "   ----------------------------- ---------- 31.3/42.2 MB 9.0 MB/s eta 0:00:02\n",
      "   ------------------------------ --------- 31.7/42.2 MB 8.8 MB/s eta 0:00:02\n",
      "   ------------------------------ --------- 32.2/42.2 MB 9.1 MB/s eta 0:00:02\n",
      "   ------------------------------ --------- 32.6/42.2 MB 9.4 MB/s eta 0:00:02\n",
      "   ------------------------------- -------- 33.0/42.2 MB 9.2 MB/s eta 0:00:02\n",
      "   ------------------------------- -------- 33.2/42.2 MB 9.0 MB/s eta 0:00:02\n",
      "   ------------------------------- -------- 33.6/42.2 MB 9.0 MB/s eta 0:00:01\n",
      "   -------------------------------- ------- 33.9/42.2 MB 8.8 MB/s eta 0:00:01\n",
      "   -------------------------------- ------- 34.0/42.2 MB 8.6 MB/s eta 0:00:01\n",
      "   -------------------------------- ------- 34.4/42.2 MB 8.6 MB/s eta 0:00:01\n",
      "   -------------------------------- ------- 34.6/42.2 MB 8.4 MB/s eta 0:00:01\n",
      "   --------------------------------- ------ 34.9/42.2 MB 8.3 MB/s eta 0:00:01\n",
      "   --------------------------------- ------ 35.4/42.2 MB 8.2 MB/s eta 0:00:01\n",
      "   --------------------------------- ------ 35.9/42.2 MB 8.2 MB/s eta 0:00:01\n",
      "   ---------------------------------- ----- 36.2/42.2 MB 8.1 MB/s eta 0:00:01\n",
      "   ---------------------------------- ----- 36.5/42.2 MB 7.8 MB/s eta 0:00:01\n",
      "   ----------------------------------- ---- 37.2/42.2 MB 8.0 MB/s eta 0:00:01\n",
      "   ----------------------------------- ---- 37.8/42.2 MB 8.1 MB/s eta 0:00:01\n",
      "   ------------------------------------ --- 38.3/42.2 MB 8.1 MB/s eta 0:00:01\n",
      "   ------------------------------------ --- 38.8/42.2 MB 8.1 MB/s eta 0:00:01\n",
      "   ------------------------------------- -- 39.3/42.2 MB 8.2 MB/s eta 0:00:01\n",
      "   ------------------------------------- -- 39.7/42.2 MB 8.1 MB/s eta 0:00:01\n",
      "   -------------------------------------- - 40.4/42.2 MB 8.3 MB/s eta 0:00:01\n",
      "   -------------------------------------- - 41.0/42.2 MB 8.3 MB/s eta 0:00:01\n",
      "   ---------------------------------------  41.5/42.2 MB 8.2 MB/s eta 0:00:01\n",
      "   ---------------------------------------  42.1/42.2 MB 8.3 MB/s eta 0:00:01\n",
      "   ---------------------------------------  42.2/42.2 MB 8.2 MB/s eta 0:00:01\n",
      "   ---------------------------------------- 42.2/42.2 MB 7.6 MB/s eta 0:00:00\n",
      "Downloading threadpoolctl-3.3.0-py3-none-any.whl (17 kB)\n",
      "Installing collected packages: threadpoolctl, scipy, joblib, scikit-learn\n",
      "Successfully installed joblib-1.3.2 scikit-learn-1.3.2 scipy-1.10.1 threadpoolctl-3.3.0\n"
     ]
    }
   ],
   "source": [
    "!pip install scikit-learn"
   ],
   "metadata": {
    "collapsed": false,
    "ExecuteTime": {
     "end_time": "2024-03-05T23:45:58.721634Z",
     "start_time": "2024-03-05T23:45:33.936134Z"
    }
   },
   "id": "c72ad51559125537",
   "execution_count": 5
  },
  {
   "cell_type": "code",
   "outputs": [],
   "source": [
    "import pandas as pd\n",
    "import seaborn as sns\n",
    "import requests\n",
    "from sklearn.ensemble import IsolationForest"
   ],
   "metadata": {
    "collapsed": true,
    "ExecuteTime": {
     "end_time": "2024-03-05T23:49:03.064221Z",
     "start_time": "2024-03-05T23:49:02.864656Z"
    }
   },
   "id": "initial_id",
   "execution_count": 15
  },
  {
   "cell_type": "code",
   "outputs": [],
   "source": [
    "df = pd.read_csv(\"keylogs.csv\")"
   ],
   "metadata": {
    "collapsed": false,
    "ExecuteTime": {
     "end_time": "2024-03-05T23:46:55.790855Z",
     "start_time": "2024-03-05T23:46:55.735472Z"
    }
   },
   "id": "9fa0284788a5cb72",
   "execution_count": 7
  },
  {
   "cell_type": "code",
   "outputs": [
    {
     "name": "stdout",
     "output_type": "stream",
     "text": [
      "<class 'pandas.core.frame.DataFrame'>\n",
      "RangeIndex: 7 entries, 0 to 6\n",
      "Data columns (total 5 columns):\n",
      " #   Column              Non-Null Count  Dtype  \n",
      "---  ------              --------------  -----  \n",
      " 0   Keystroke Latency   7 non-null      float64\n",
      " 1   Backspace Count     7 non-null      int64  \n",
      " 2   Right Click Count   7 non-null      int64  \n",
      " 3   Left Click Count    7 non-null      int64  \n",
      " 4   Malware Word Count  7 non-null      int64  \n",
      "dtypes: float64(1), int64(4)\n",
      "memory usage: 408.0 bytes\n"
     ]
    }
   ],
   "source": [
    "df.info()"
   ],
   "metadata": {
    "collapsed": false,
    "ExecuteTime": {
     "end_time": "2024-03-05T23:47:03.068174Z",
     "start_time": "2024-03-05T23:47:03.029308Z"
    }
   },
   "id": "45db320e4881889",
   "execution_count": 8
  },
  {
   "cell_type": "code",
   "outputs": [],
   "source": [
    "anomaly_inputs = ['Keystroke Latency','Backspace Count','Right Click Count','Left Click Count','Malware Word Count']"
   ],
   "metadata": {
    "collapsed": false,
    "ExecuteTime": {
     "end_time": "2024-03-05T23:47:16.420047Z",
     "start_time": "2024-03-05T23:47:16.413763Z"
    }
   },
   "id": "8d73669b5b9b9a5d",
   "execution_count": 9
  },
  {
   "cell_type": "code",
   "outputs": [],
   "source": [
    "model_IF = IsolationForest(contamination=0.1, random_state=42)"
   ],
   "metadata": {
    "collapsed": false,
    "ExecuteTime": {
     "end_time": "2024-03-05T23:47:23.675455Z",
     "start_time": "2024-03-05T23:47:23.664780Z"
    }
   },
   "id": "d7084e48c60d616b",
   "execution_count": 10
  },
  {
   "cell_type": "code",
   "outputs": [
    {
     "data": {
      "text/plain": "IsolationForest(contamination=0.1, random_state=42)",
      "text/html": "<style>#sk-container-id-1 {color: black;}#sk-container-id-1 pre{padding: 0;}#sk-container-id-1 div.sk-toggleable {background-color: white;}#sk-container-id-1 label.sk-toggleable__label {cursor: pointer;display: block;width: 100%;margin-bottom: 0;padding: 0.3em;box-sizing: border-box;text-align: center;}#sk-container-id-1 label.sk-toggleable__label-arrow:before {content: \"▸\";float: left;margin-right: 0.25em;color: #696969;}#sk-container-id-1 label.sk-toggleable__label-arrow:hover:before {color: black;}#sk-container-id-1 div.sk-estimator:hover label.sk-toggleable__label-arrow:before {color: black;}#sk-container-id-1 div.sk-toggleable__content {max-height: 0;max-width: 0;overflow: hidden;text-align: left;background-color: #f0f8ff;}#sk-container-id-1 div.sk-toggleable__content pre {margin: 0.2em;color: black;border-radius: 0.25em;background-color: #f0f8ff;}#sk-container-id-1 input.sk-toggleable__control:checked~div.sk-toggleable__content {max-height: 200px;max-width: 100%;overflow: auto;}#sk-container-id-1 input.sk-toggleable__control:checked~label.sk-toggleable__label-arrow:before {content: \"▾\";}#sk-container-id-1 div.sk-estimator input.sk-toggleable__control:checked~label.sk-toggleable__label {background-color: #d4ebff;}#sk-container-id-1 div.sk-label input.sk-toggleable__control:checked~label.sk-toggleable__label {background-color: #d4ebff;}#sk-container-id-1 input.sk-hidden--visually {border: 0;clip: rect(1px 1px 1px 1px);clip: rect(1px, 1px, 1px, 1px);height: 1px;margin: -1px;overflow: hidden;padding: 0;position: absolute;width: 1px;}#sk-container-id-1 div.sk-estimator {font-family: monospace;background-color: #f0f8ff;border: 1px dotted black;border-radius: 0.25em;box-sizing: border-box;margin-bottom: 0.5em;}#sk-container-id-1 div.sk-estimator:hover {background-color: #d4ebff;}#sk-container-id-1 div.sk-parallel-item::after {content: \"\";width: 100%;border-bottom: 1px solid gray;flex-grow: 1;}#sk-container-id-1 div.sk-label:hover label.sk-toggleable__label {background-color: #d4ebff;}#sk-container-id-1 div.sk-serial::before {content: \"\";position: absolute;border-left: 1px solid gray;box-sizing: border-box;top: 0;bottom: 0;left: 50%;z-index: 0;}#sk-container-id-1 div.sk-serial {display: flex;flex-direction: column;align-items: center;background-color: white;padding-right: 0.2em;padding-left: 0.2em;position: relative;}#sk-container-id-1 div.sk-item {position: relative;z-index: 1;}#sk-container-id-1 div.sk-parallel {display: flex;align-items: stretch;justify-content: center;background-color: white;position: relative;}#sk-container-id-1 div.sk-item::before, #sk-container-id-1 div.sk-parallel-item::before {content: \"\";position: absolute;border-left: 1px solid gray;box-sizing: border-box;top: 0;bottom: 0;left: 50%;z-index: -1;}#sk-container-id-1 div.sk-parallel-item {display: flex;flex-direction: column;z-index: 1;position: relative;background-color: white;}#sk-container-id-1 div.sk-parallel-item:first-child::after {align-self: flex-end;width: 50%;}#sk-container-id-1 div.sk-parallel-item:last-child::after {align-self: flex-start;width: 50%;}#sk-container-id-1 div.sk-parallel-item:only-child::after {width: 0;}#sk-container-id-1 div.sk-dashed-wrapped {border: 1px dashed gray;margin: 0 0.4em 0.5em 0.4em;box-sizing: border-box;padding-bottom: 0.4em;background-color: white;}#sk-container-id-1 div.sk-label label {font-family: monospace;font-weight: bold;display: inline-block;line-height: 1.2em;}#sk-container-id-1 div.sk-label-container {text-align: center;}#sk-container-id-1 div.sk-container {/* jupyter's `normalize.less` sets `[hidden] { display: none; }` but bootstrap.min.css set `[hidden] { display: none !important; }` so we also need the `!important` here to be able to override the default hidden behavior on the sphinx rendered scikit-learn.org. See: https://github.com/scikit-learn/scikit-learn/issues/21755 */display: inline-block !important;position: relative;}#sk-container-id-1 div.sk-text-repr-fallback {display: none;}</style><div id=\"sk-container-id-1\" class=\"sk-top-container\"><div class=\"sk-text-repr-fallback\"><pre>IsolationForest(contamination=0.1, random_state=42)</pre><b>In a Jupyter environment, please rerun this cell to show the HTML representation or trust the notebook. <br />On GitHub, the HTML representation is unable to render, please try loading this page with nbviewer.org.</b></div><div class=\"sk-container\" hidden><div class=\"sk-item\"><div class=\"sk-estimator sk-toggleable\"><input class=\"sk-toggleable__control sk-hidden--visually\" id=\"sk-estimator-id-1\" type=\"checkbox\" checked><label for=\"sk-estimator-id-1\" class=\"sk-toggleable__label sk-toggleable__label-arrow\">IsolationForest</label><div class=\"sk-toggleable__content\"><pre>IsolationForest(contamination=0.1, random_state=42)</pre></div></div></div></div></div>"
     },
     "execution_count": 11,
     "metadata": {},
     "output_type": "execute_result"
    }
   ],
   "source": [
    "model_IF.fit(df[anomaly_inputs])"
   ],
   "metadata": {
    "collapsed": false,
    "ExecuteTime": {
     "end_time": "2024-03-05T23:47:29.681193Z",
     "start_time": "2024-03-05T23:47:29.339042Z"
    }
   },
   "id": "c1fe373f51de0ca6",
   "execution_count": 11
  },
  {
   "cell_type": "code",
   "outputs": [],
   "source": [
    "df['anomaly_scores'] = model_IF.decision_function(df[anomaly_inputs])"
   ],
   "metadata": {
    "collapsed": false,
    "ExecuteTime": {
     "end_time": "2024-03-05T23:47:38.289191Z",
     "start_time": "2024-03-05T23:47:38.262755Z"
    }
   },
   "id": "19c035bb8fcc6727",
   "execution_count": 12
  },
  {
   "cell_type": "code",
   "outputs": [],
   "source": [
    "df['anomaly'] = model_IF.predict(df[anomaly_inputs])"
   ],
   "metadata": {
    "collapsed": false,
    "ExecuteTime": {
     "end_time": "2024-03-05T23:47:44.920560Z",
     "start_time": "2024-03-05T23:47:44.890888Z"
    }
   },
   "id": "c77f7667106fb244",
   "execution_count": 13
  },
  {
   "cell_type": "code",
   "outputs": [
    {
     "data": {
      "text/plain": "   Keystroke Latency  Backspace Count  Right Click Count  Left Click Count  \\\n0              0.000                3                  0                 6   \n1            145.944                3                  0                 4   \n2            160.555                3                  0                 9   \n3            145.085                4                  0                 4   \n4            100.085                7                  5                22   \n5            131.258                0                  0                 0   \n6            166.521                0                  0                 3   \n\n   Malware Word Count  anomaly_scores  anomaly  \n0                   0        0.053228        1  \n1                   0        0.209528        1  \n2                   0        0.148474        1  \n3                   0        0.176045        1  \n4                   0       -0.079843       -1  \n5                   0        0.101271        1  \n6                   0        0.133838        1  ",
      "text/html": "<div>\n<style scoped>\n    .dataframe tbody tr th:only-of-type {\n        vertical-align: middle;\n    }\n\n    .dataframe tbody tr th {\n        vertical-align: top;\n    }\n\n    .dataframe thead th {\n        text-align: right;\n    }\n</style>\n<table border=\"1\" class=\"dataframe\">\n  <thead>\n    <tr style=\"text-align: right;\">\n      <th></th>\n      <th>Keystroke Latency</th>\n      <th>Backspace Count</th>\n      <th>Right Click Count</th>\n      <th>Left Click Count</th>\n      <th>Malware Word Count</th>\n      <th>anomaly_scores</th>\n      <th>anomaly</th>\n    </tr>\n  </thead>\n  <tbody>\n    <tr>\n      <th>0</th>\n      <td>0.000</td>\n      <td>3</td>\n      <td>0</td>\n      <td>6</td>\n      <td>0</td>\n      <td>0.053228</td>\n      <td>1</td>\n    </tr>\n    <tr>\n      <th>1</th>\n      <td>145.944</td>\n      <td>3</td>\n      <td>0</td>\n      <td>4</td>\n      <td>0</td>\n      <td>0.209528</td>\n      <td>1</td>\n    </tr>\n    <tr>\n      <th>2</th>\n      <td>160.555</td>\n      <td>3</td>\n      <td>0</td>\n      <td>9</td>\n      <td>0</td>\n      <td>0.148474</td>\n      <td>1</td>\n    </tr>\n    <tr>\n      <th>3</th>\n      <td>145.085</td>\n      <td>4</td>\n      <td>0</td>\n      <td>4</td>\n      <td>0</td>\n      <td>0.176045</td>\n      <td>1</td>\n    </tr>\n    <tr>\n      <th>4</th>\n      <td>100.085</td>\n      <td>7</td>\n      <td>5</td>\n      <td>22</td>\n      <td>0</td>\n      <td>-0.079843</td>\n      <td>-1</td>\n    </tr>\n    <tr>\n      <th>5</th>\n      <td>131.258</td>\n      <td>0</td>\n      <td>0</td>\n      <td>0</td>\n      <td>0</td>\n      <td>0.101271</td>\n      <td>1</td>\n    </tr>\n    <tr>\n      <th>6</th>\n      <td>166.521</td>\n      <td>0</td>\n      <td>0</td>\n      <td>3</td>\n      <td>0</td>\n      <td>0.133838</td>\n      <td>1</td>\n    </tr>\n  </tbody>\n</table>\n</div>"
     },
     "execution_count": 14,
     "metadata": {},
     "output_type": "execute_result"
    }
   ],
   "source": [
    "df.loc[:, ['Keystroke Latency','Backspace Count','Right Click Count','Left Click Count','Malware Word Count','anomaly_scores','anomaly'] ]"
   ],
   "metadata": {
    "collapsed": false,
    "ExecuteTime": {
     "end_time": "2024-03-05T23:47:52.993467Z",
     "start_time": "2024-03-05T23:47:52.968899Z"
    }
   },
   "id": "2243a934cc0e7f7e",
   "execution_count": 14
  },
  {
   "cell_type": "code",
   "outputs": [],
   "source": [
    "url = 'http://localhost:8080/api/v1/data/alerts'"
   ],
   "metadata": {
    "collapsed": false,
    "ExecuteTime": {
     "end_time": "2024-03-05T23:49:43.780526Z",
     "start_time": "2024-03-05T23:49:43.770525Z"
    }
   },
   "id": "4c74d7c5085d4ebd",
   "execution_count": 16
  },
  {
   "cell_type": "code",
   "outputs": [
    {
     "name": "stdout",
     "output_type": "stream",
     "text": [
      "Alert received\n"
     ]
    }
   ],
   "source": [
    "for index, row in df.iterrows():\n",
    "    if row['anomaly'] == -1:\n",
    "        response = requests.post(url, data='An intruder has been found from keylogger information')\n",
    "        print(response.text)"
   ],
   "metadata": {
    "collapsed": false,
    "ExecuteTime": {
     "end_time": "2024-03-05T23:51:10.003942Z",
     "start_time": "2024-03-05T23:51:09.974290Z"
    }
   },
   "id": "2703c43a0328d7fc",
   "execution_count": 18
  },
  {
   "cell_type": "code",
   "outputs": [],
   "source": [],
   "metadata": {
    "collapsed": false
   },
   "id": "832c983874edc85b"
  }
 ],
 "metadata": {
  "kernelspec": {
   "display_name": "Python 3",
   "language": "python",
   "name": "python3"
  },
  "language_info": {
   "codemirror_mode": {
    "name": "ipython",
    "version": 2
   },
   "file_extension": ".py",
   "mimetype": "text/x-python",
   "name": "python",
   "nbconvert_exporter": "python",
   "pygments_lexer": "ipython2",
   "version": "2.7.6"
  }
 },
 "nbformat": 4,
 "nbformat_minor": 5
}
